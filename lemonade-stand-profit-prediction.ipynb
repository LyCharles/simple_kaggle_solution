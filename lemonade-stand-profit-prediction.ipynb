{
 "cells": [
  {
   "cell_type": "code",
   "execution_count": 1,
   "id": "79bef9aa",
   "metadata": {
    "_cell_guid": "b1076dfc-b9ad-4769-8c92-a6c4dae69d19",
    "_uuid": "8f2839f25d086af736a60e9eeb907d3b93b6e0e5",
    "execution": {
     "iopub.execute_input": "2024-06-19T13:52:55.108932Z",
     "iopub.status.busy": "2024-06-19T13:52:55.108575Z",
     "iopub.status.idle": "2024-06-19T15:56:22.493745Z",
     "shell.execute_reply": "2024-06-19T15:56:22.492721Z"
    },
    "papermill": {
     "duration": 7407.392186,
     "end_time": "2024-06-19T15:56:22.497268",
     "exception": false,
     "start_time": "2024-06-19T13:52:55.105082",
     "status": "completed"
    },
    "tags": []
   },
   "outputs": [
    {
     "name": "stdout",
     "output_type": "stream",
     "text": [
      "Root Mean Squared Error (RMSE) on validation set: 3.596904204223408\n"
     ]
    }
   ],
   "source": [
    "# Basic libraries\n",
    "import pandas as pd\n",
    "import numpy as np\n",
    "import matplotlib.pyplot as plt\n",
    "\n",
    "# Preprocessing\n",
    "from sklearn.preprocessing import StandardScaler\n",
    "from sklearn.compose import ColumnTransformer\n",
    "\n",
    "# Modeling\n",
    "from catboost import CatBoostRegressor\n",
    "from sklearn.metrics import mean_squared_error\n",
    "from sklearn.model_selection import train_test_split, RepeatedKFold\n",
    "from sklearn.linear_model import LassoCV\n",
    "\n",
    "# Pipeline\n",
    "from sklearn.pipeline import Pipeline\n",
    "from skopt import BayesSearchCV\n",
    "from skopt.space import Real, Integer, Categorical\n",
    "\n",
    "# Load dataset\n",
    "train_url = \"/kaggle/input/mlbasics-competition-l09-spring2024/train.csv\"\n",
    "df_train = pd.read_csv(train_url, index_col='Date')\n",
    "\n",
    "test_url = '/kaggle/input/mlbasics-competition-l09-spring2024/test.csv'\n",
    "df_test = pd.read_csv(test_url, index_col='Date')\n",
    "\n",
    "# Prepare features and target\n",
    "X = df_train.drop(columns=['Income'])\n",
    "y = df_train['Income']\n",
    "\n",
    "# Convert categorical features to dummy variables\n",
    "X = pd.get_dummies(X, drop_first=True)\n",
    "df_test = pd.get_dummies(df_test, drop_first=True)\n",
    "\n",
    "# Ensure both training and testing data have the same dummy variables\n",
    "X, df_test = X.align(df_test, join='left', axis=1, fill_value=0)\n",
    "\n",
    "# 数据标准化\n",
    "scaler = StandardScaler()\n",
    "X_scaled = scaler.fit_transform(X)\n",
    "df_test_scaled = scaler.transform(df_test)\n",
    "\n",
    "# 使用LassoCV进行特征选择\n",
    "lasso = LassoCV(cv=5)\n",
    "lasso.fit(X_scaled, y)\n",
    "\n",
    "# 获取非零系数的特征\n",
    "selected_features = np.where(lasso.coef_ != 0)[0]\n",
    "X_selected = X.iloc[:, selected_features]\n",
    "df_test_selected = df_test.iloc[:, selected_features]\n",
    "\n",
    "# Split dataset into training and testing sets\n",
    "X_train, X_valid, y_train, y_valid = train_test_split(X_selected, y, test_size=0.2)\n",
    "\n",
    "# Define CatBoost model\n",
    "catboost_model = CatBoostRegressor(loss_function='RMSE', silent=True)\n",
    "\n",
    "# Define hyperparameter search space\n",
    "search_spaces = {\n",
    "    'iterations': Integer(100, 1000),\n",
    "    'depth': Integer(1, 10),\n",
    "    'learning_rate': Real(0.01, 0.3, 'log-uniform'),\n",
    "    'l2_leaf_reg': Real(1, 10, 'log-uniform'),\n",
    "    'bagging_temperature': Real(0.0, 1.0),\n",
    "    'border_count': Integer(32, 255)\n",
    "}\n",
    "\n",
    "# Define Repeated K-Fold cross-validation\n",
    "cv = RepeatedKFold(n_splits=5, n_repeats=10)\n",
    "\n",
    "# BayesSearchCV with cross-validation\n",
    "opt = BayesSearchCV(\n",
    "    estimator=catboost_model,\n",
    "    search_spaces=search_spaces,\n",
    "    n_iter=150,  # Number of parameter settings that are sampled\n",
    "    cv=cv,\n",
    "    n_jobs=-1,\n",
    "    scoring='neg_mean_squared_error'\n",
    ")\n",
    "\n",
    "# Perform the search\n",
    "opt.fit(X_train, y_train)\n",
    "\n",
    "# Best model from Bayesian optimization\n",
    "best_catboost = opt.best_estimator_\n",
    "\n",
    "# Predict on validation set\n",
    "y_pred_valid = best_catboost.predict(X_valid)\n",
    "rmse = np.sqrt(mean_squared_error(y_valid, y_pred_valid))\n",
    "print(f'Root Mean Squared Error (RMSE) on validation set: {rmse}')\n",
    "\n",
    "# Predict on test set\n",
    "test_predictions = best_catboost.predict(df_test_selected)\n",
    "\n",
    "# Create submission DataFrame\n",
    "submission = pd.DataFrame({\n",
    "    'Date': df_test.index,\n",
    "    'Income': test_predictions\n",
    "})\n",
    "\n",
    "# Save to CSV\n",
    "submission.to_csv('submission.csv', index=False)\n"
   ]
  }
 ],
 "metadata": {
  "kaggle": {
   "accelerator": "gpu",
   "dataSources": [
    {
     "databundleVersionId": 8812736,
     "sourceId": 81440,
     "sourceType": "competition"
    }
   ],
   "dockerImageVersionId": 30732,
   "isGpuEnabled": true,
   "isInternetEnabled": true,
   "language": "python",
   "sourceType": "notebook"
  },
  "kernelspec": {
   "display_name": "Python 3",
   "language": "python",
   "name": "python3"
  },
  "language_info": {
   "codemirror_mode": {
    "name": "ipython",
    "version": 3
   },
   "file_extension": ".py",
   "mimetype": "text/x-python",
   "name": "python",
   "nbconvert_exporter": "python",
   "pygments_lexer": "ipython3",
   "version": "3.10.13"
  },
  "papermill": {
   "default_parameters": {},
   "duration": 7412.684725,
   "end_time": "2024-06-19T15:56:25.131295",
   "environment_variables": {},
   "exception": null,
   "input_path": "__notebook__.ipynb",
   "output_path": "__notebook__.ipynb",
   "parameters": {},
   "start_time": "2024-06-19T13:52:52.446570",
   "version": "2.5.0"
  }
 },
 "nbformat": 4,
 "nbformat_minor": 5
}
